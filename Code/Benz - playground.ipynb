{
 "cells": [
  {
   "cell_type": "code",
   "execution_count": 1,
   "metadata": {
    "collapsed": true
   },
   "outputs": [],
   "source": [
    "import pandas as pd\n",
    "import numpy as np\n",
    "import seaborn as sns\n",
    "sns.set(font_scale = 1.7)\n",
    "import matplotlib.pyplot as plt\n",
    "import sklearn\n",
    "%matplotlib inline"
   ]
  },
  {
   "cell_type": "code",
   "execution_count": 2,
   "metadata": {
    "collapsed": true
   },
   "outputs": [],
   "source": [
    "from IPython.core.interactiveshell import InteractiveShell\n",
    "InteractiveShell.ast_node_interactivity = \"last_expr\"\n",
    "# http://ipython.readthedocs.io/en/stable/config/options/terminal.html\n",
    "import warnings\n",
    "warnings.filterwarnings(\"ignore\")"
   ]
  },
  {
   "cell_type": "code",
   "execution_count": 3,
   "metadata": {
    "collapsed": false
   },
   "outputs": [],
   "source": [
    "train = pd.read_csv('data/train.csv')\n",
    "test = pd.read_csv('data/test.csv')"
   ]
  },
  {
   "cell_type": "code",
   "execution_count": 9,
   "metadata": {
    "collapsed": true
   },
   "outputs": [],
   "source": [
    "train_raw = train.copy()\n",
    "test_raw = test.copy()"
   ]
  },
  {
   "cell_type": "code",
   "execution_count": 10,
   "metadata": {
    "collapsed": true
   },
   "outputs": [],
   "source": [
    "import lightgbm as lgb\n",
    "import xgboost as xgb"
   ]
  },
  {
   "cell_type": "code",
   "execution_count": 11,
   "metadata": {
    "collapsed": false
   },
   "outputs": [],
   "source": [
    "train_x = train.drop('y', axis = 1)\n",
    "train_y = train['y']\n",
    "test_x = test.copy()"
   ]
  },
  {
   "cell_type": "markdown",
   "metadata": {},
   "source": [
    "# Stack then average models "
   ]
  },
  {
   "cell_type": "markdown",
   "metadata": {},
   "source": [
    "https://www.kaggle.com/hakeem/stacked-then-averaged-models-0-5697"
   ]
  },
  {
   "cell_type": "code",
   "execution_count": 12,
   "metadata": {
    "collapsed": true
   },
   "outputs": [],
   "source": [
    "from sklearn.base import BaseEstimator,TransformerMixin, ClassifierMixin\n",
    "from sklearn.preprocessing import LabelEncoder\n",
    "from sklearn.decomposition import PCA, FastICA, TruncatedSVD\n",
    "from sklearn.random_projection import GaussianRandomProjection, SparseRandomProjection\n",
    "from sklearn.pipeline import make_pipeline, make_union\n",
    "from sklearn.linear_model import LassoLarsCV, ElasticNetCV \n",
    "from sklearn.ensemble import GradientBoostingRegressor\n",
    "from sklearn.utils import check_array\n",
    "from sklearn.metrics import r2_score"
   ]
  },
  {
   "cell_type": "code",
   "execution_count": 13,
   "metadata": {
    "collapsed": false
   },
   "outputs": [],
   "source": [
    "# http://danielhnyk.cz/creating-your-own-estimator-scikit-learn/\n",
    "\n",
    "class StackingEstimator(BaseEstimator, TransformerMixin):\n",
    "    def __init__(self, estimator):\n",
    "        self.estimator = estimator\n",
    "        \n",
    "    def fit(self, X, y = None, **fit_params):\n",
    "        self.estimator.fit(X, y, **fit_params)\n",
    "        return self\n",
    "    def transform(self, X):\n",
    "        X = check_array(X)\n",
    "        X_transformed = np.copy(X)\n",
    "        if issubclass(self.estimator.__class__, ClassifierMixin) and hasattr(self.estimator, \"predict_proba\"):\n",
    "            X_transformed = np.hstack((self.estimator.predict_proba(X),X))\n",
    "        X_transformed = np.hstack((np.reshape(self.estimator.predict(X),(-1,1)),X_transformed))\n",
    "        \n",
    "        return X_transformed\n",
    "    "
   ]
  },
  {
   "cell_type": "code",
   "execution_count": 14,
   "metadata": {
    "collapsed": false
   },
   "outputs": [],
   "source": [
    "for col in train.columns:\n",
    "    if train[col].dtype == 'object':\n",
    "        lbl = LabelEncoder()\n",
    "        lbl.fit(list(train[col].values) + list(test[col].values))\n",
    "        train[col] = lbl.transform(list(train[col].values))\n",
    "        test[col] = lbl.transform(list(test[col].values))\n",
    "                "
   ]
  },
  {
   "cell_type": "code",
   "execution_count": 15,
   "metadata": {
    "collapsed": false
   },
   "outputs": [],
   "source": [
    "n_comp = 12\n",
    "\n",
    "# tSVD\n",
    "tsvd = TruncatedSVD(n_components=n_comp, random_state=420)\n",
    "tsvd_results_train = tsvd.fit_transform(train.drop([\"y\"], axis=1))\n",
    "tsvd_results_test = tsvd.transform(test)\n",
    "\n",
    "# PCA\n",
    "pca = PCA(n_components=n_comp, random_state=420)\n",
    "pca2_results_train = pca.fit_transform(train.drop([\"y\"], axis=1))\n",
    "pca2_results_test = pca.transform(test)\n",
    "\n",
    "# ICA\n",
    "ica = FastICA(n_components=n_comp, random_state=420)\n",
    "ica2_results_train = ica.fit_transform(train.drop([\"y\"], axis=1))\n",
    "ica2_results_test = ica.transform(test)\n",
    "\n",
    "# GRP\n",
    "grp = GaussianRandomProjection(n_components=n_comp, eps=0.1, random_state=420)\n",
    "grp_results_train = grp.fit_transform(train.drop([\"y\"], axis=1))\n",
    "grp_results_test = grp.transform(test)\n",
    "\n",
    "# SRP\n",
    "srp = SparseRandomProjection(n_components=n_comp, dense_output=True, random_state=420)\n",
    "srp_results_train = srp.fit_transform(train.drop([\"y\"], axis=1))\n",
    "srp_results_test = srp.transform(test)"
   ]
  },
  {
   "cell_type": "code",
   "execution_count": 16,
   "metadata": {
    "collapsed": true
   },
   "outputs": [],
   "source": [
    "#save columns list before adding the decomposition components\n",
    "\n",
    "usable_columns = list(set(train.columns) - set(['y']))\n",
    "\n",
    "# Append decomposition components to datasets\n",
    "for i in range(1, n_comp + 1):\n",
    "    train['pca_' + str(i)] = pca2_results_train[:, i - 1]\n",
    "    test['pca_' + str(i)] = pca2_results_test[:, i - 1]\n",
    "\n",
    "    train['ica_' + str(i)] = ica2_results_train[:, i - 1]\n",
    "    test['ica_' + str(i)] = ica2_results_test[:, i - 1]\n",
    "\n",
    "    train['tsvd_' + str(i)] = tsvd_results_train[:, i - 1]\n",
    "    test['tsvd_' + str(i)] = tsvd_results_test[:, i - 1]\n",
    "\n",
    "    train['grp_' + str(i)] = grp_results_train[:, i - 1]\n",
    "    test['grp_' + str(i)] = grp_results_test[:, i - 1]\n",
    "\n",
    "    train['srp_' + str(i)] = srp_results_train[:, i - 1]\n",
    "    test['srp_' + str(i)] = srp_results_test[:, i - 1]\n"
   ]
  },
  {
   "cell_type": "code",
   "execution_count": 18,
   "metadata": {
    "collapsed": false
   },
   "outputs": [],
   "source": [
    "y_mean = np.mean(train_y)\n",
    "id_test = test['ID'].values\n",
    "#finaltrainset and finaltestset are data to be used only the stacked model (does not contain PCA, SVD... arrays) \n",
    "finaltrainset = train[usable_columns].values\n",
    "finaltestset = test[usable_columns].values"
   ]
  },
  {
   "cell_type": "code",
   "execution_count": 19,
   "metadata": {
    "collapsed": false
   },
   "outputs": [
    {
     "data": {
      "text/plain": [
       "(4209, 377)"
      ]
     },
     "execution_count": 19,
     "metadata": {},
     "output_type": "execute_result"
    }
   ],
   "source": [
    "finaltrainset.shape"
   ]
  },
  {
   "cell_type": "code",
   "execution_count": 20,
   "metadata": {
    "collapsed": false
   },
   "outputs": [
    {
     "data": {
      "text/plain": [
       "(4209, 438)"
      ]
     },
     "execution_count": 20,
     "metadata": {},
     "output_type": "execute_result"
    }
   ],
   "source": [
    "train.shape"
   ]
  },
  {
   "cell_type": "code",
   "execution_count": 21,
   "metadata": {
    "collapsed": false
   },
   "outputs": [
    {
     "data": {
      "text/plain": [
       "(4209, 378)"
      ]
     },
     "execution_count": 21,
     "metadata": {},
     "output_type": "execute_result"
    }
   ],
   "source": [
    "train_raw.shape"
   ]
  },
  {
   "cell_type": "code",
   "execution_count": 22,
   "metadata": {
    "collapsed": true
   },
   "outputs": [],
   "source": [
    "import xgboost as xgb\n",
    "import lightgbm as lgb"
   ]
  },
  {
   "cell_type": "code",
   "execution_count": 24,
   "metadata": {
    "collapsed": true
   },
   "outputs": [],
   "source": [
    "train_x = train.drop('y', axis = 1)\n",
    "train_y = train['y']\n",
    "test_x = test.copy()"
   ]
  },
  {
   "cell_type": "code",
   "execution_count": 25,
   "metadata": {
    "collapsed": false
   },
   "outputs": [],
   "source": [
    "xgb_params = {\n",
    "    'n_trees': 520, \n",
    "    'eta': 0.0045,\n",
    "    'max_depth': 4,\n",
    "    'subsample': 0.93,\n",
    "    'objective': 'reg:linear',\n",
    "    'eval_metric': 'rmse',\n",
    "    'base_score': y_mean, # base prediction = mean(target)\n",
    "    'silent': 1\n",
    "}\n",
    "# NOTE: Make sure that the class is labeled 'class' in the data file\n",
    "\n",
    "dtrain = xgb.DMatrix(train_x, train_y)\n",
    "dtest = xgb.DMatrix(test_x)\n",
    "\n",
    "num_boost_rounds = 1250\n",
    "# train model\n",
    "model = xgb.train(dict(xgb_params, silent=0), dtrain, num_boost_round=num_boost_rounds)\n",
    "y_pred = model.predict(dtest)"
   ]
  },
  {
   "cell_type": "code",
   "execution_count": 26,
   "metadata": {
    "collapsed": true
   },
   "outputs": [],
   "source": [
    "\n",
    "sub = pd.DataFrame()\n",
    "sub['ID'] = id_test\n",
    "sub['y'] = y_pred\n",
    "sub.to_csv('Submission/only xgb 3' + '.csv', index = False)"
   ]
  },
  {
   "cell_type": "markdown",
   "metadata": {},
   "source": [
    "## XGBoost Cross-validation"
   ]
  },
  {
   "cell_type": "code",
   "execution_count": 30,
   "metadata": {
    "collapsed": true
   },
   "outputs": [],
   "source": [
    "from sklearn.model_selection import KFold\n",
    "from sklearn.metrics import r2_score"
   ]
  },
  {
   "cell_type": "code",
   "execution_count": 38,
   "metadata": {
    "collapsed": true
   },
   "outputs": [],
   "source": [
    "kf = KFold(n_splits= 10, shuffle = True)"
   ]
  },
  {
   "cell_type": "code",
   "execution_count": 40,
   "metadata": {
    "collapsed": true
   },
   "outputs": [],
   "source": [
    "cv_scores2 = []"
   ]
  },
  {
   "cell_type": "code",
   "execution_count": 41,
   "metadata": {
    "collapsed": false
   },
   "outputs": [],
   "source": [
    "for a, b in kf.split(train_x):\n",
    "    train_index = a\n",
    "    test_index = b\n",
    "    break"
   ]
  },
  {
   "cell_type": "code",
   "execution_count": 42,
   "metadata": {
    "collapsed": true
   },
   "outputs": [],
   "source": [
    "train_x_cv, test_x_cv = train_x.ix[train_index], train_x.ix[test_index]\n",
    "train_y_cv, test_y_cv = train_y.ix[train_index], train_y.ix[test_index]\n",
    "dtrain_cv = xgb.DMatrix(train_x_cv, train_y_cv)\n",
    "dtest_cv = xgb.DMatrix(test_x_cv)"
   ]
  },
  {
   "cell_type": "code",
   "execution_count": 43,
   "metadata": {
    "collapsed": false
   },
   "outputs": [
    {
     "name": "stdout",
     "output_type": "stream",
     "text": [
      "CPU times: user 10min 24s, sys: 11.3 s, total: 10min 36s\n",
      "Wall time: 11min 26s\n"
     ]
    }
   ],
   "source": [
    "%%time\n",
    "\n",
    "xgb_params = {\n",
    "    'n_trees': 520, \n",
    "    'eta': 0.0045,\n",
    "    'max_depth': 4,\n",
    "    'subsample': 0.93,\n",
    "    'objective': 'reg:linear',\n",
    "    'eval_metric': 'rmse',\n",
    "    'base_score': y_mean, # base prediction = mean(target)\n",
    "    'silent': 1\n",
    "}\n",
    "num_boost_rounds = 1250\n",
    "\n",
    "\n",
    "for train_index, test_index in kf.split(train_x):\n",
    "    train_x_cv, test_x_cv = train_x.ix[train_index], train_x.ix[test_index]\n",
    "    train_y_cv, test_y_cv = train_y.ix[train_index], train_y.ix[test_index]\n",
    "    dtrain_cv = xgb.DMatrix(train_x_cv, train_y_cv)\n",
    "    dtest_cv = xgb.DMatrix(test_x_cv)\n",
    "    # train model\n",
    "    model = xgb.train(dict(xgb_params, silent=0), dtrain_cv, num_boost_round=num_boost_rounds)\n",
    "    y_pred = model.predict(dtest_cv)\n",
    "    cv_score = r2_score(test_y_cv, y_pred)\n",
    "    cv_scores2.append(cv_score)"
   ]
  },
  {
   "cell_type": "code",
   "execution_count": 44,
   "metadata": {
    "collapsed": false
   },
   "outputs": [
    {
     "data": {
      "text/plain": [
       "[0.61008453267941065,\n",
       " 0.54288438506063597,\n",
       " 0.61488459834950482,\n",
       " 0.59471918661746703,\n",
       " 0.64995145182257263,\n",
       " 0.43672063076043377,\n",
       " 0.60846458837541717,\n",
       " 0.52647105740046563,\n",
       " 0.54931443277397052,\n",
       " 0.53761336844127672]"
      ]
     },
     "execution_count": 44,
     "metadata": {},
     "output_type": "execute_result"
    }
   ],
   "source": [
    "cv_scores2"
   ]
  },
  {
   "cell_type": "code",
   "execution_count": 58,
   "metadata": {
    "collapsed": false
   },
   "outputs": [
    {
     "data": {
      "text/plain": [
       "0.56711082322811557"
      ]
     },
     "execution_count": 58,
     "metadata": {},
     "output_type": "execute_result"
    }
   ],
   "source": [
    "np.mean(cv_scores2)"
   ]
  },
  {
   "cell_type": "code",
   "execution_count": 59,
   "metadata": {
    "collapsed": false
   },
   "outputs": [
    {
     "data": {
      "text/plain": [
       "0.058215911207195631"
      ]
     },
     "execution_count": 59,
     "metadata": {},
     "output_type": "execute_result"
    }
   ],
   "source": [
    "np.std(cv_scores2)"
   ]
  },
  {
   "cell_type": "markdown",
   "metadata": {},
   "source": [
    "## XGB cross-validation"
   ]
  },
  {
   "cell_type": "markdown",
   "metadata": {},
   "source": [
    "GridSearchCV http://scikit-learn.org/stable/modules/generated/sklearn.model_selection.GridSearchCV.html"
   ]
  },
  {
   "cell_type": "code",
   "execution_count": 49,
   "metadata": {
    "collapsed": true
   },
   "outputs": [],
   "source": [
    "from sklearn.model_selection import GridSearchCV"
   ]
  },
  {
   "cell_type": "code",
   "execution_count": 50,
   "metadata": {
    "collapsed": true
   },
   "outputs": [],
   "source": [
    "xgb_params_ori = {'n_trees':1000,\n",
    "              'eta' : 0.0045,\n",
    "            'max_depth' : 5,\n",
    "              'subsample' : 0.93,\n",
    "              'eval_metric':'rmse',\n",
    "            'objective': 'reg:linear',\n",
    "              'silent' : 1,\n",
    "               'min_child_weight':1,\n",
    "               'colsample_bytree':1,\n",
    "               'gamma':0,\n",
    "               'lambda':1,\n",
    "               'reg_alpha':0,\n",
    "                'base_score' : y_mean,\n",
    "               'reg_lambda':0\n",
    "             }\n"
   ]
  },
  {
   "cell_type": "code",
   "execution_count": 56,
   "metadata": {
    "collapsed": true
   },
   "outputs": [],
   "source": [
    "cv_folds = 10\n",
    "nrounds = 1250"
   ]
  },
  {
   "cell_type": "markdown",
   "metadata": {},
   "source": [
    "### Tune max_depth and min_child_weight"
   ]
  },
  {
   "cell_type": "code",
   "execution_count": 54,
   "metadata": {
    "collapsed": false
   },
   "outputs": [
    {
     "name": "stdout",
     "output_type": "stream",
     "text": [
      "CPU times: user 39.3 s, sys: 937 ms, total: 40.2 s\n",
      "Wall time: 52min 14s\n"
     ]
    }
   ],
   "source": [
    "%%time\n",
    "param_test1 = {\n",
    " 'max_depth':range(3,10,2),\n",
    " 'min_child_weight':range(1,6,2)\n",
    "}\n",
    "gsearch1 = GridSearchCV(estimator = xgb.XGBRegressor( learning_rate =0.0045, n_estimators=1000, max_depth=5,\n",
    " min_child_weight=1, gamma=0, subsample=0.93, colsample_bytree=1,\n",
    " objective= 'reg:linear', nthread=4, scale_pos_weight=1, seed=420), \n",
    " param_grid = param_test1, scoring='r2',n_jobs=4,iid=False, cv=10)\n",
    "gsearch1.fit(train_x, train_y)\n"
   ]
  },
  {
   "cell_type": "code",
   "execution_count": 55,
   "metadata": {
    "collapsed": false
   },
   "outputs": [
    {
     "data": {
      "text/plain": [
       "([mean: 0.57035, std: 0.09820, params: {'min_child_weight': 1, 'max_depth': 3},\n",
       "  mean: 0.57208, std: 0.09911, params: {'min_child_weight': 3, 'max_depth': 3},\n",
       "  mean: 0.57200, std: 0.09972, params: {'min_child_weight': 5, 'max_depth': 3},\n",
       "  mean: 0.56702, std: 0.09778, params: {'min_child_weight': 1, 'max_depth': 5},\n",
       "  mean: 0.56738, std: 0.09754, params: {'min_child_weight': 3, 'max_depth': 5},\n",
       "  mean: 0.56748, std: 0.09938, params: {'min_child_weight': 5, 'max_depth': 5},\n",
       "  mean: 0.55802, std: 0.09707, params: {'min_child_weight': 1, 'max_depth': 7},\n",
       "  mean: 0.56083, std: 0.09566, params: {'min_child_weight': 3, 'max_depth': 7},\n",
       "  mean: 0.56103, std: 0.09756, params: {'min_child_weight': 5, 'max_depth': 7},\n",
       "  mean: 0.55273, std: 0.09747, params: {'min_child_weight': 1, 'max_depth': 9},\n",
       "  mean: 0.55510, std: 0.09494, params: {'min_child_weight': 3, 'max_depth': 9},\n",
       "  mean: 0.55507, std: 0.09645, params: {'min_child_weight': 5, 'max_depth': 9}],\n",
       " {'max_depth': 3, 'min_child_weight': 3},\n",
       " 0.57207644720386941)"
      ]
     },
     "execution_count": 55,
     "metadata": {},
     "output_type": "execute_result"
    }
   ],
   "source": [
    "gsearch1.grid_scores_, gsearch1.best_params_, gsearch1.best_score_"
   ]
  },
  {
   "cell_type": "code",
   "execution_count": 60,
   "metadata": {
    "collapsed": false
   },
   "outputs": [
    {
     "name": "stdout",
     "output_type": "stream",
     "text": [
      "CPU times: user 45.6 s, sys: 352 ms, total: 46 s\n",
      "Wall time: 46.8 s\n"
     ]
    }
   ],
   "source": [
    "%%time\n",
    "xgb_params_tune1 = {\n",
    "    'n_trees': 520, \n",
    "    'eta': 0.0045,\n",
    "    'max_depth': 3,\n",
    "    'subsample': 0.93,\n",
    "    'objective': 'reg:linear',\n",
    "    'eval_metric': 'rmse',\n",
    "    'base_score': y_mean, # base prediction = mean(target)\n",
    "    'silent': 1,\n",
    "    'min_child_weight':3\n",
    "}\n",
    "# NOTE: Make sure that the class is labeled 'class' in the data file\n",
    "\n",
    "\n",
    "\n",
    "num_boost_rounds = 1250\n",
    "# train model\n",
    "model = xgb.train(dict(xgb_params_tune1, silent=0), dtrain, num_boost_round=num_boost_rounds)\n",
    "y_pred = model.predict(dtest)"
   ]
  },
  {
   "cell_type": "code",
   "execution_count": 62,
   "metadata": {
    "collapsed": true
   },
   "outputs": [],
   "source": [
    "sub = pd.DataFrame()\n",
    "sub['ID'] = id_test\n",
    "sub['y'] = y_pred\n",
    "sub.to_csv('Submission/gridcv_1' + '.csv', index = False)"
   ]
  },
  {
   "cell_type": "code",
   "execution_count": 63,
   "metadata": {
    "collapsed": false
   },
   "outputs": [
    {
     "name": "stdout",
     "output_type": "stream",
     "text": [
      "CPU times: user 38.2 s, sys: 843 ms, total: 39 s\n",
      "Wall time: 23min 24s\n"
     ]
    }
   ],
   "source": [
    "%%time\n",
    "param_test2 = {\n",
    " 'max_depth':range(2,5,1),\n",
    " 'min_child_weight':range(1,4,1)\n",
    "}\n",
    "gsearch1 = GridSearchCV(estimator = xgb.XGBRegressor( learning_rate =0.0045, n_estimators=1000, max_depth=5,\n",
    " min_child_weight=1, gamma=0, subsample=0.93, colsample_bytree=1,\n",
    " objective= 'reg:linear', nthread=4, scale_pos_weight=1, seed=420), \n",
    " param_grid = param_test2, scoring='r2',n_jobs=4,iid=False, cv=10)\n",
    "gsearch1.fit(train_x, train_y)"
   ]
  },
  {
   "cell_type": "code",
   "execution_count": 64,
   "metadata": {
    "collapsed": false
   },
   "outputs": [
    {
     "data": {
      "text/plain": [
       "([mean: 0.57174, std: 0.09871, params: {'min_child_weight': 1, 'max_depth': 2},\n",
       "  mean: 0.57180, std: 0.09884, params: {'min_child_weight': 2, 'max_depth': 2},\n",
       "  mean: 0.57206, std: 0.09888, params: {'min_child_weight': 3, 'max_depth': 2},\n",
       "  mean: 0.57035, std: 0.09820, params: {'min_child_weight': 1, 'max_depth': 3},\n",
       "  mean: 0.57179, std: 0.09899, params: {'min_child_weight': 2, 'max_depth': 3},\n",
       "  mean: 0.57208, std: 0.09911, params: {'min_child_weight': 3, 'max_depth': 3},\n",
       "  mean: 0.56877, std: 0.09810, params: {'min_child_weight': 1, 'max_depth': 4},\n",
       "  mean: 0.56975, std: 0.09831, params: {'min_child_weight': 2, 'max_depth': 4},\n",
       "  mean: 0.57050, std: 0.09855, params: {'min_child_weight': 3, 'max_depth': 4}],\n",
       " {'max_depth': 3, 'min_child_weight': 3},\n",
       " 0.57207644720386941)"
      ]
     },
     "execution_count": 64,
     "metadata": {},
     "output_type": "execute_result"
    }
   ],
   "source": [
    "gsearch1.grid_scores_, gsearch1.best_params_, gsearch1.best_score_"
   ]
  },
  {
   "cell_type": "markdown",
   "metadata": {},
   "source": [
    "### Summary of Tune 1: max_depth and min_child_weight"
   ]
  },
  {
   "cell_type": "markdown",
   "metadata": {},
   "source": [
    "- parameters given by GridSearchCV are max_depth:3, min_child_weight:3\n",
    "- According to LB, the best parameters are max_depth:4, min_child_weight:1\n",
    "- LB scores are 0.56905 and 0.56376 respectively"
   ]
  },
  {
   "cell_type": "markdown",
   "metadata": {},
   "source": [
    "### Tune gamma"
   ]
  },
  {
   "cell_type": "code",
   "execution_count": 65,
   "metadata": {
    "collapsed": false
   },
   "outputs": [
    {
     "name": "stdout",
     "output_type": "stream",
     "text": [
      "CPU times: user 49.3 s, sys: 801 ms, total: 50.1 s\n",
      "Wall time: 20min 58s\n"
     ]
    }
   ],
   "source": [
    "%%time\n",
    "param_test3 = {\n",
    " 'gamma':np.arange(0,0.6,0.1)\n",
    "}\n",
    "gsearch3 = GridSearchCV(\n",
    "    estimator = xgb.XGBRegressor( learning_rate =0.0045, n_estimators=1000, max_depth=4,\n",
    "                                 min_child_weight=1, gamma=0, subsample=0.93, \n",
    "                                 colsample_bytree=1, objective= 'reg:linear', nthread=4, \n",
    "                                 scale_pos_weight=1, seed=420), \n",
    "    param_grid = param_test3, scoring='r2',n_jobs=4,iid=False, cv=10)\n",
    "\n",
    "\n",
    "gsearch3.fit(train_x, train_y)"
   ]
  },
  {
   "cell_type": "code",
   "execution_count": 66,
   "metadata": {
    "collapsed": false
   },
   "outputs": [
    {
     "data": {
      "text/plain": [
       "([mean: 0.56877, std: 0.09810, params: {'gamma': 0.0},\n",
       "  mean: 0.56876, std: 0.09808, params: {'gamma': 0.10000000000000001},\n",
       "  mean: 0.56876, std: 0.09807, params: {'gamma': 0.20000000000000001},\n",
       "  mean: 0.56886, std: 0.09807, params: {'gamma': 0.30000000000000004},\n",
       "  mean: 0.56901, std: 0.09816, params: {'gamma': 0.40000000000000002},\n",
       "  mean: 0.56903, std: 0.09824, params: {'gamma': 0.5}],\n",
       " {'gamma': 0.5},\n",
       " 0.56903428174599813)"
      ]
     },
     "execution_count": 66,
     "metadata": {},
     "output_type": "execute_result"
    }
   ],
   "source": [
    "gsearch3.grid_scores_, gsearch3.best_params_, gsearch3.best_score_"
   ]
  },
  {
   "cell_type": "code",
   "execution_count": 68,
   "metadata": {
    "collapsed": false
   },
   "outputs": [],
   "source": [
    "\n",
    "xgb_params_tune2 = {\n",
    "    'n_trees': 520, \n",
    "    'eta': 0.0045,\n",
    "    'max_depth': 4,\n",
    "    'subsample': 0.93,\n",
    "    'objective': 'reg:linear',\n",
    "    'eval_metric': 'rmse',\n",
    "    'base_score': y_mean, # base prediction = mean(target)\n",
    "    'silent': 1,\n",
    "    'min_child_weight':1,\n",
    "    'gamma':0.5\n",
    "}"
   ]
  },
  {
   "cell_type": "code",
   "execution_count": 69,
   "metadata": {
    "collapsed": false
   },
   "outputs": [
    {
     "name": "stdout",
     "output_type": "stream",
     "text": [
      "CPU times: user 59.2 s, sys: 554 ms, total: 59.8 s\n",
      "Wall time: 1min\n"
     ]
    }
   ],
   "source": [
    "%%time\n",
    "dtrain = xgb.DMatrix(train_x, train_y)\n",
    "dtest = xgb.DMatrix(test_x)\n",
    "\n",
    "num_boost_rounds = 1250\n",
    "# train model\n",
    "model = xgb.train(dict(xgb_params_tune2, silent=0), dtrain, num_boost_round=num_boost_rounds)\n",
    "y_pred = model.predict(dtest)"
   ]
  },
  {
   "cell_type": "code",
   "execution_count": 70,
   "metadata": {
    "collapsed": true
   },
   "outputs": [],
   "source": [
    "sub = pd.DataFrame()\n",
    "sub['ID'] = id_test\n",
    "sub['y'] = y_pred\n",
    "sub.to_csv('Submission/gridcv_3' + '.csv', index = False)"
   ]
  },
  {
   "cell_type": "code",
   "execution_count": 71,
   "metadata": {
    "collapsed": false
   },
   "outputs": [
    {
     "name": "stdout",
     "output_type": "stream",
     "text": [
      "CPU times: user 46.7 s, sys: 554 ms, total: 47.3 s\n",
      "Wall time: 25min 21s\n"
     ]
    }
   ],
   "source": [
    "%%time\n",
    "param_test4 = {\n",
    " 'gamma':np.arange(0.4,0.6,0.025)\n",
    "}\n",
    "gsearch4 = GridSearchCV(\n",
    "    estimator = xgb.XGBRegressor( learning_rate =0.0045, n_estimators=1000, max_depth=4,\n",
    "                                 min_child_weight=1, gamma=0, subsample=0.93, \n",
    "                                 colsample_bytree=1, objective= 'reg:linear', nthread=4, \n",
    "                                 scale_pos_weight=1, seed=420), \n",
    "    param_grid = param_test4, scoring='r2',n_jobs=4,iid=False, cv=10)\n",
    "\n",
    "\n",
    "gsearch4.fit(train_x, train_y)"
   ]
  },
  {
   "cell_type": "code",
   "execution_count": 72,
   "metadata": {
    "collapsed": false
   },
   "outputs": [
    {
     "data": {
      "text/plain": [
       "([mean: 0.56901, std: 0.09816, params: {'gamma': 0.40000000000000002},\n",
       "  mean: 0.56900, std: 0.09816, params: {'gamma': 0.42500000000000004},\n",
       "  mean: 0.56900, std: 0.09816, params: {'gamma': 0.45000000000000007},\n",
       "  mean: 0.56902, std: 0.09823, params: {'gamma': 0.47500000000000009},\n",
       "  mean: 0.56903, std: 0.09824, params: {'gamma': 0.50000000000000011},\n",
       "  mean: 0.56904, std: 0.09825, params: {'gamma': 0.52500000000000013},\n",
       "  mean: 0.56906, std: 0.09824, params: {'gamma': 0.55000000000000016},\n",
       "  mean: 0.56903, std: 0.09823, params: {'gamma': 0.57500000000000018}],\n",
       " {'gamma': 0.55000000000000016},\n",
       " 0.5690559169415228)"
      ]
     },
     "execution_count": 72,
     "metadata": {},
     "output_type": "execute_result"
    }
   ],
   "source": [
    "gsearch4.grid_scores_, gsearch4.best_params_, gsearch4.best_score_"
   ]
  },
  {
   "cell_type": "code",
   "execution_count": 73,
   "metadata": {
    "collapsed": true
   },
   "outputs": [],
   "source": [
    "xgb_params_tune2 = {\n",
    "    'n_trees': 520, \n",
    "    'eta': 0.0045,\n",
    "    'max_depth': 4,\n",
    "    'subsample': 0.93,\n",
    "    'objective': 'reg:linear',\n",
    "    'eval_metric': 'rmse',\n",
    "    'base_score': y_mean, # base prediction = mean(target)\n",
    "    'silent': 1,\n",
    "    'min_child_weight':1,\n",
    "    'gamma':0.55\n",
    "}"
   ]
  },
  {
   "cell_type": "code",
   "execution_count": 74,
   "metadata": {
    "collapsed": false
   },
   "outputs": [
    {
     "name": "stdout",
     "output_type": "stream",
     "text": [
      "CPU times: user 58.2 s, sys: 388 ms, total: 58.6 s\n",
      "Wall time: 59.1 s\n"
     ]
    }
   ],
   "source": [
    "%%time\n",
    "dtrain = xgb.DMatrix(train_x, train_y)\n",
    "dtest = xgb.DMatrix(test_x)\n",
    "\n",
    "num_boost_rounds = 1250\n",
    "# train model\n",
    "model = xgb.train(dict(xgb_params_tune2, silent=0), dtrain, num_boost_round=num_boost_rounds)\n",
    "y_pred = model.predict(dtest)"
   ]
  },
  {
   "cell_type": "code",
   "execution_count": 75,
   "metadata": {
    "collapsed": true
   },
   "outputs": [],
   "source": [
    "sub = pd.DataFrame()\n",
    "sub['ID'] = id_test\n",
    "sub['y'] = y_pred\n",
    "sub.to_csv('Submission/gridcv_4' + '.csv', index = False)"
   ]
  },
  {
   "cell_type": "markdown",
   "metadata": {},
   "source": [
    "### Summary of gamma"
   ]
  },
  {
   "cell_type": "markdown",
   "metadata": {},
   "source": [
    "- Best gamma: 0.55, giving LB score 0.00001 improvement"
   ]
  },
  {
   "cell_type": "markdown",
   "metadata": {},
   "source": [
    "### Tune subsample and colsample_bytree"
   ]
  },
  {
   "cell_type": "code",
   "execution_count": 79,
   "metadata": {
    "collapsed": false
   },
   "outputs": [
    {
     "name": "stdout",
     "output_type": "stream",
     "text": [
      "CPU times: user 39.3 s, sys: 557 ms, total: 39.8 s\n",
      "Wall time: 27min 34s\n"
     ]
    }
   ],
   "source": [
    "%%time\n",
    "param_test5 = {\n",
    "     'subsample':[0.8,0.9,1.0],\n",
    "    'colsample_bytree':[0.8,0.9,1.0]\n",
    "}\n",
    "gsearch5 = GridSearchCV(\n",
    "    estimator = xgb.XGBRegressor( learning_rate =0.0045, n_estimators=1000, max_depth=4,\n",
    "                                 min_child_weight=1, gamma=0.55, subsample=0.93, \n",
    "                                 colsample_bytree=1, objective= 'reg:linear', nthread=4, \n",
    "                                 scale_pos_weight=1, seed=420), \n",
    "    param_grid = param_test5, scoring='r2',n_jobs=4,iid=False, cv=10)\n",
    "\n",
    "\n",
    "gsearch5.fit(train_x, train_y)"
   ]
  },
  {
   "cell_type": "code",
   "execution_count": 81,
   "metadata": {
    "collapsed": false
   },
   "outputs": [
    {
     "data": {
      "text/plain": [
       "([mean: 0.56881, std: 0.09866, params: {'colsample_bytree': 0.8, 'subsample': 0.8},\n",
       "  mean: 0.56890, std: 0.09814, params: {'colsample_bytree': 0.8, 'subsample': 0.9},\n",
       "  mean: 0.57000, std: 0.09826, params: {'colsample_bytree': 0.8, 'subsample': 1.0},\n",
       "  mean: 0.56946, std: 0.09873, params: {'colsample_bytree': 0.9, 'subsample': 0.8},\n",
       "  mean: 0.56928, std: 0.09857, params: {'colsample_bytree': 0.9, 'subsample': 0.9},\n",
       "  mean: 0.56992, std: 0.09923, params: {'colsample_bytree': 0.9, 'subsample': 1.0},\n",
       "  mean: 0.56864, std: 0.09751, params: {'colsample_bytree': 1.0, 'subsample': 0.8},\n",
       "  mean: 0.56895, std: 0.09815, params: {'colsample_bytree': 1.0, 'subsample': 0.9},\n",
       "  mean: 0.56970, std: 0.09906, params: {'colsample_bytree': 1.0, 'subsample': 1.0}],\n",
       " {'colsample_bytree': 0.8, 'subsample': 1.0},\n",
       " 0.56999896193024358)"
      ]
     },
     "execution_count": 81,
     "metadata": {},
     "output_type": "execute_result"
    }
   ],
   "source": [
    "gsearch5.grid_scores_, gsearch5.best_params_, gsearch5.best_score_"
   ]
  },
  {
   "cell_type": "code",
   "execution_count": 83,
   "metadata": {
    "collapsed": true
   },
   "outputs": [],
   "source": [
    "xgb_params_tune3 = {\n",
    "    'n_trees': 520, \n",
    "    'eta': 0.0045,\n",
    "    'max_depth': 4,\n",
    "\n",
    "    'objective': 'reg:linear',\n",
    "    'eval_metric': 'rmse',\n",
    "    'base_score': y_mean, # base prediction = mean(target)\n",
    "    'silent': 1,\n",
    "    'min_child_weight':1,\n",
    "    'gamma':0.55,\n",
    "        'subsample': 1.0,\n",
    "    'colsample_bytree':0.8\n",
    "}"
   ]
  },
  {
   "cell_type": "code",
   "execution_count": 84,
   "metadata": {
    "collapsed": false
   },
   "outputs": [
    {
     "name": "stdout",
     "output_type": "stream",
     "text": [
      "CPU times: user 50 s, sys: 635 ms, total: 50.7 s\n",
      "Wall time: 52.6 s\n"
     ]
    }
   ],
   "source": [
    "%%time\n",
    "dtrain = xgb.DMatrix(train_x, train_y)\n",
    "dtest = xgb.DMatrix(test_x)\n",
    "\n",
    "num_boost_rounds = 1250\n",
    "# train model\n",
    "model = xgb.train(dict(xgb_params_tune3, silent=0), dtrain, num_boost_round=num_boost_rounds)\n",
    "y_pred = model.predict(dtest)"
   ]
  },
  {
   "cell_type": "code",
   "execution_count": 85,
   "metadata": {
    "collapsed": true
   },
   "outputs": [],
   "source": [
    "sub = pd.DataFrame()\n",
    "sub['ID'] = id_test\n",
    "sub['y'] = y_pred\n",
    "sub.to_csv('Submission/gridcv_5' + '.csv', index = False)"
   ]
  },
  {
   "cell_type": "code",
   "execution_count": 86,
   "metadata": {
    "collapsed": true
   },
   "outputs": [],
   "source": [
    "xgb_params_tune3 = {\n",
    "    'n_trees': 520, \n",
    "    'eta': 0.0025,\n",
    "    'max_depth': 4,\n",
    "\n",
    "    'objective': 'reg:linear',\n",
    "    'eval_metric': 'rmse',\n",
    "    'base_score': y_mean, # base prediction = mean(target)\n",
    "    'silent': 1,\n",
    "    'min_child_weight':1,\n",
    "    'gamma':0.55,\n",
    "        'subsample': 1.0,\n",
    "    'colsample_bytree':0.8\n",
    "}"
   ]
  },
  {
   "cell_type": "code",
   "execution_count": 87,
   "metadata": {
    "collapsed": false
   },
   "outputs": [
    {
     "name": "stdout",
     "output_type": "stream",
     "text": [
      "CPU times: user 1min 34s, sys: 694 ms, total: 1min 34s\n",
      "Wall time: 1min 36s\n"
     ]
    }
   ],
   "source": [
    "%%time\n",
    "dtrain = xgb.DMatrix(train_x, train_y)\n",
    "dtest = xgb.DMatrix(test_x)\n",
    "\n",
    "num_boost_rounds = 2500\n",
    "# train model\n",
    "model = xgb.train(dict(xgb_params_tune3, silent=0), dtrain, num_boost_round=num_boost_rounds)\n",
    "y_pred = model.predict(dtest)"
   ]
  },
  {
   "cell_type": "code",
   "execution_count": 88,
   "metadata": {
    "collapsed": true
   },
   "outputs": [],
   "source": [
    "sub = pd.DataFrame()\n",
    "sub['ID'] = id_test\n",
    "sub['y'] = y_pred\n",
    "sub.to_csv('Submission/gridcv_6' + '.csv', index = False)"
   ]
  },
  {
   "cell_type": "markdown",
   "metadata": {},
   "source": [
    "### Summary of colsample_bytree & subsample"
   ]
  },
  {
   "cell_type": "markdown",
   "metadata": {},
   "source": [
    "- LB score 0.56735 with colsample_bytree 0.8 and subsample 1.0, not an improvement "
   ]
  },
  {
   "cell_type": "markdown",
   "metadata": {},
   "source": [
    "### Tune of Regularization - alpha & lambda"
   ]
  },
  {
   "cell_type": "code",
   "execution_count": 94,
   "metadata": {
    "collapsed": false
   },
   "outputs": [
    {
     "name": "stdout",
     "output_type": "stream",
     "text": [
      "CPU times: user 49.6 s, sys: 592 ms, total: 50.2 s\n",
      "Wall time: 29min 31s\n"
     ]
    }
   ],
   "source": [
    "%%time\n",
    "param_test6 = {\n",
    "     'reg_alpha':[0,0.1,0.2],\n",
    "    'reg_lambda':[1.0,1.5,2.0]\n",
    "}\n",
    "gsearch6 = GridSearchCV(\n",
    "    estimator = xgb.XGBRegressor( learning_rate =0.0045, n_estimators=1000, max_depth=4,\n",
    "                                 min_child_weight=1, gamma=0.55, subsample=0.93, \n",
    "                                 colsample_bytree=1, objective= 'reg:linear', nthread=4, \n",
    "                                 scale_pos_weight=1, seed=420), \n",
    "    param_grid = param_test6, scoring='r2',n_jobs=4,iid=False, cv=10)\n",
    "\n",
    "\n",
    "gsearch6.fit(train_x, train_y)"
   ]
  },
  {
   "cell_type": "code",
   "execution_count": 95,
   "metadata": {
    "collapsed": false
   },
   "outputs": [
    {
     "data": {
      "text/plain": [
       "([mean: 0.56906, std: 0.09824, params: {'reg_lambda': 1.0, 'reg_alpha': 0},\n",
       "  mean: 0.57070, std: 0.09908, params: {'reg_lambda': 1.5, 'reg_alpha': 0},\n",
       "  mean: 0.57219, std: 0.10046, params: {'reg_lambda': 2.0, 'reg_alpha': 0},\n",
       "  mean: 0.56882, std: 0.09799, params: {'reg_lambda': 1.0, 'reg_alpha': 0.1},\n",
       "  mean: 0.57088, std: 0.09939, params: {'reg_lambda': 1.5, 'reg_alpha': 0.1},\n",
       "  mean: 0.57219, std: 0.10050, params: {'reg_lambda': 2.0, 'reg_alpha': 0.1},\n",
       "  mean: 0.56902, std: 0.09813, params: {'reg_lambda': 1.0, 'reg_alpha': 0.2},\n",
       "  mean: 0.57081, std: 0.09933, params: {'reg_lambda': 1.5, 'reg_alpha': 0.2},\n",
       "  mean: 0.57207, std: 0.10038, params: {'reg_lambda': 2.0, 'reg_alpha': 0.2}],\n",
       " {'reg_alpha': 0.1, 'reg_lambda': 2.0},\n",
       " 0.57219456108668998)"
      ]
     },
     "execution_count": 95,
     "metadata": {},
     "output_type": "execute_result"
    }
   ],
   "source": [
    "gsearch6.grid_scores_, gsearch6.best_params_, gsearch6.best_score_"
   ]
  },
  {
   "cell_type": "code",
   "execution_count": 96,
   "metadata": {
    "collapsed": true
   },
   "outputs": [],
   "source": [
    "xgb_params_tune4 = {\n",
    "    'n_trees': 520, \n",
    "    'eta': 0.0025,\n",
    "    'max_depth': 4,\n",
    "\n",
    "    'objective': 'reg:linear',\n",
    "    'eval_metric': 'rmse',\n",
    "    'base_score': y_mean, # base prediction = mean(target)\n",
    "    'silent': 1,\n",
    "    'min_child_weight':1,\n",
    "    'gamma':0.55,\n",
    "        'subsample': 0.93,\n",
    "    'reg_alpha':0.1,\n",
    "    'reg_lambda':2.0\n",
    "    \n",
    "}"
   ]
  },
  {
   "cell_type": "code",
   "execution_count": 98,
   "metadata": {
    "collapsed": false
   },
   "outputs": [
    {
     "name": "stdout",
     "output_type": "stream",
     "text": [
      "CPU times: user 1min 3s, sys: 692 ms, total: 1min 4s\n",
      "Wall time: 1min 6s\n"
     ]
    }
   ],
   "source": [
    "%%time\n",
    "dtrain = xgb.DMatrix(train_x, train_y)\n",
    "dtest = xgb.DMatrix(test_x)\n",
    "\n",
    "num_boost_rounds =1250\n",
    "# train model\n",
    "model = xgb.train(dict(xgb_params_tune4, silent=0), dtrain, num_boost_round=num_boost_rounds)\n",
    "y_pred = model.predict(dtest)"
   ]
  },
  {
   "cell_type": "code",
   "execution_count": 99,
   "metadata": {
    "collapsed": true
   },
   "outputs": [],
   "source": [
    "sub = pd.DataFrame()\n",
    "sub['ID'] = id_test\n",
    "sub['y'] = y_pred\n",
    "sub.to_csv('Submission/gridcv_7' + '.csv', index = False)"
   ]
  },
  {
   "cell_type": "markdown",
   "metadata": {
    "collapsed": false
   },
   "source": [
    "## Stacking 1\n",
    "- Train the stacked models then predict the test data"
   ]
  },
  {
   "cell_type": "code",
   "execution_count": 109,
   "metadata": {
    "collapsed": false
   },
   "outputs": [],
   "source": [
    "stacked_pipeline = make_pipeline(\n",
    "    StackingEstimator(estimator=LassoLarsCV(normalize=True)),\n",
    "    StackingEstimator(estimator=GradientBoostingRegressor(learning_rate=0.001, loss=\"huber\", max_depth=3, max_features=0.55, min_samples_leaf=18, min_samples_split=14, subsample=0.7)),\n",
    "    LassoLarsCV()\n",
    "\n",
    ")"
   ]
  },
  {
   "cell_type": "code",
   "execution_count": 101,
   "metadata": {
    "collapsed": false
   },
   "outputs": [
    {
     "name": "stdout",
     "output_type": "stream",
     "text": [
      "CPU times: user 3.8 s, sys: 243 ms, total: 4.05 s\n",
      "Wall time: 3.48 s\n"
     ]
    }
   ],
   "source": [
    "%%time \n",
    "stacked_pipeline.fit(finaltrainset, train_y)\n",
    "results = stacked_pipeline.predict(finaltestset)"
   ]
  },
  {
   "cell_type": "code",
   "execution_count": 105,
   "metadata": {
    "collapsed": false
   },
   "outputs": [],
   "source": [
    "xgb_params_tune2 = {\n",
    "    'n_trees': 520, \n",
    "    'eta': 0.0045,\n",
    "    'max_depth': 4,\n",
    "    'subsample': 0.93,\n",
    "    'objective': 'reg:linear',\n",
    "    'eval_metric': 'rmse',\n",
    "    'base_score': y_mean, # base prediction = mean(target)\n",
    "    'silent': 1,\n",
    "    'min_child_weight':1,\n",
    "    'gamma':0.55\n",
    "}"
   ]
  },
  {
   "cell_type": "code",
   "execution_count": 106,
   "metadata": {
    "collapsed": false
   },
   "outputs": [
    {
     "name": "stdout",
     "output_type": "stream",
     "text": [
      "CPU times: user 1min 1s, sys: 513 ms, total: 1min 2s\n",
      "Wall time: 1min 3s\n"
     ]
    }
   ],
   "source": [
    "%%time\n",
    "dtrain = xgb.DMatrix(train_x, train_y)\n",
    "dtest = xgb.DMatrix(test_x)\n",
    "\n",
    "num_boost_rounds = 1250\n",
    "# train model\n",
    "model = xgb.train(dict(xgb_params_tune2, silent=0), dtrain, num_boost_round=num_boost_rounds)\n",
    "y_pred_stack = model.predict(dtest)"
   ]
  },
  {
   "cell_type": "code",
   "execution_count": 107,
   "metadata": {
    "collapsed": false
   },
   "outputs": [
    {
     "name": "stdout",
     "output_type": "stream",
     "text": [
      "R2 score on train data:\n",
      "0.658462139275\n"
     ]
    }
   ],
   "source": [
    "'''R2 Score on the entire Train data when averaging'''\n",
    "\n",
    "print('R2 score on train data:')\n",
    "print(r2_score(train_y,stacked_pipeline.predict(finaltrainset)*0.2855 + model.predict(dtrain)*0.7145))"
   ]
  },
  {
   "cell_type": "code",
   "execution_count": 110,
   "metadata": {
    "collapsed": true
   },
   "outputs": [],
   "source": [
    "## Only stack\n",
    "sub = pd.DataFrame()\n",
    "sub['ID'] = id_test\n",
    "sub['y'] = results\n",
    "sub.to_csv('Submission/only_stack.csv', index=False)"
   ]
  },
  {
   "cell_type": "code",
   "execution_count": 112,
   "metadata": {
    "collapsed": true
   },
   "outputs": [],
   "source": [
    "## Average the preditionon test data  of both models then save it on a csv file\n",
    "sub = pd.DataFrame()\n",
    "sub['ID'] = id_test\n",
    "sub['y'] = y_pred_stack*0.75 + results*0.25\n",
    "sub.to_csv('Submission/stacked3.csv', index=False)"
   ]
  },
  {
   "cell_type": "code",
   "execution_count": 113,
   "metadata": {
    "collapsed": true
   },
   "outputs": [],
   "source": [
    "\n",
    "\n",
    "sub = pd.DataFrame()\n",
    "sub['ID'] = id_test\n",
    "sub['y'] = y_pred_stack*0.7145 + results*0.2855\n",
    "sub.to_csv('Submission/stacked2.csv', index=False)"
   ]
  },
  {
   "cell_type": "markdown",
   "metadata": {},
   "source": [
    "#### Summary of Stack\n",
    "- stacked2 gives 0.56872, not an improvement\n",
    "- try stacked 3 again\n",
    "- cv to find optimal weight for pred & results"
   ]
  },
  {
   "cell_type": "code",
   "execution_count": 114,
   "metadata": {
    "collapsed": true
   },
   "outputs": [],
   "source": [
    "# def runXGB(train_X, train_y, test_X, test_y = None, feature_names = None, seed_val = 0, num_rounds = 5000):\n",
    "#     param = {}\n",
    "#     param['objective'] = 'reg:linear'\n",
    "#     param['eta'] = 0.001\n",
    "#     param['max_depth'] = 5\n",
    "#     param['silent'] = 1\n",
    "\n",
    "#     param['eval_metric'] = \"rmse\"\n",
    "#     param['min_child_weight'] = 1\n",
    "#     param['subsample'] = 0.7\n",
    "#     param['colsample_bytree'] = 0.7\n",
    "#     param['seed'] = seed_val\n",
    "#     num_rounds = num_rounds\n",
    "    \n",
    "#     plst = list(param.items())\n",
    "    \n",
    "#     xgtrain = xgb.DMatrix(train_X, label=train_y)\n",
    "\n",
    "#     if test_y is not None:\n",
    "#         xgtest = xgb.DMatrix(test_X, label=test_y)\n",
    "#         watchlist = [ (xgtrain,'train'), (xgtest, 'test') ]\n",
    "#         model = xgb.train(plst, xgtrain, num_rounds, watchlist, early_stopping_rounds=20)\n",
    "#     else:\n",
    "#         xgtest = xgb.DMatrix(test_X)\n",
    "#         model = xgb.train(plst, xgtrain, num_rounds)\n",
    "\n",
    "#     pred_test_y = model.predict(xgtest)\n",
    "#     return pred_test_y, model"
   ]
  },
  {
   "cell_type": "code",
   "execution_count": null,
   "metadata": {
    "collapsed": false
   },
   "outputs": [],
   "source": [
    "# %%time\n",
    "# cv_scores = []\n",
    "# kf = KFold(n_splits=10, shuffle=True, random_state=2016)\n",
    "# for dev_index, val_index in kf.split(range(train_x.shape[0])):\n",
    "#         dev_X, val_X = train_x.ix[dev_index,:], train_x.ix[val_index,:]\n",
    "#         dev_y, val_y = train_y.ix[dev_index], train_y.ix[val_index]\n",
    "#         preds, model = runXGB(dev_X, dev_y, val_X, val_y)\n",
    "#         cv_scores.append(r2_score(val_y, preds))\n",
    "#         print(cv_scores)\n",
    "#         break"
   ]
  },
  {
   "cell_type": "markdown",
   "metadata": {},
   "source": [
    "## Pre-Stacking2 \n",
    "- Try models besides XGBoost"
   ]
  },
  {
   "cell_type": "code",
   "execution_count": 116,
   "metadata": {
    "collapsed": true
   },
   "outputs": [],
   "source": [
    "from sklearn.ensemble import RandomForestRegressor, GradientBoostingRegressor, ExtraTreesRegressor\n",
    "from sklearn.linear_model import Lasso, LassoCV, LassoLars, LassoLarsCV, RidgeCV\n",
    "from sklearn.svm import SVR"
   ]
  },
  {
   "cell_type": "markdown",
   "metadata": {},
   "source": [
    "#### random forest \n",
    "http://scikit-learn.org/stable/modules/generated/sklearn.ensemble.RandomForestRegressor.html"
   ]
  },
  {
   "cell_type": "code",
   "execution_count": 126,
   "metadata": {
    "collapsed": true
   },
   "outputs": [],
   "source": [
    "\n",
    "rf_params = {\n",
    "    'n_estimators':1000,\n",
    "    'criterion':'mse',\n",
    "    'max_features':'sqrt',\n",
    "    'max_depth':5,\n",
    "    'min_samples_split':2,\n",
    "    'n_jobs':-1,\n",
    "    'random_state':420\n",
    "}"
   ]
  },
  {
   "cell_type": "code",
   "execution_count": 146,
   "metadata": {
    "collapsed": true
   },
   "outputs": [],
   "source": [
    "rf = SklearnWrapper(RandomForestRegressor, rf_params)"
   ]
  },
  {
   "cell_type": "code",
   "execution_count": 147,
   "metadata": {
    "collapsed": true
   },
   "outputs": [],
   "source": [
    "kf = KFold(n_splits= 10)"
   ]
  },
  {
   "cell_type": "code",
   "execution_count": 152,
   "metadata": {
    "collapsed": false
   },
   "outputs": [
    {
     "ename": "AttributeError",
     "evalue": "'NoneType' object has no attribute 'predict2'",
     "output_type": "error",
     "traceback": [
      "\u001b[0;31m---------------------------------------------------------------------------\u001b[0m",
      "\u001b[0;31mAttributeError\u001b[0m                            Traceback (most recent call last)",
      "\u001b[0;32m<ipython-input-152-e8816ce56b62>\u001b[0m in \u001b[0;36m<module>\u001b[0;34m()\u001b[0m\n\u001b[0;32m----> 1\u001b[0;31m \u001b[0mrf\u001b[0m\u001b[0;34m.\u001b[0m\u001b[0mfit2\u001b[0m\u001b[0;34m(\u001b[0m\u001b[0mtrain_x\u001b[0m\u001b[0;34m,\u001b[0m \u001b[0mtrain_y\u001b[0m\u001b[0;34m)\u001b[0m\u001b[0;34m.\u001b[0m\u001b[0mpredict2\u001b[0m\u001b[0;34m(\u001b[0m\u001b[0mtrain_x\u001b[0m\u001b[0;34m)\u001b[0m\u001b[0;34m\u001b[0m\u001b[0m\n\u001b[0m",
      "\u001b[0;31mAttributeError\u001b[0m: 'NoneType' object has no attribute 'predict2'"
     ]
    }
   ],
   "source": [
    "rf.fit2(train_x, train_y).predict2(train_x)"
   ]
  },
  {
   "cell_type": "code",
   "execution_count": 148,
   "metadata": {
    "collapsed": true
   },
   "outputs": [],
   "source": [
    "def get_cv(clf):\n",
    "    result = []\n",
    "    for train_index, val_index in kf.split(train_x):\n",
    "        train_x_cv, train_y_cv = train_x.ix[train_index], train_y.ix[train_index]\n",
    "        val_x_cv, val_y_cv = train_x.ix[val_index], train_y.ix[val_index] \n",
    "        pred_cv = clf.fit2(train_x_cv, train_y_cv).predict2(val_x_cv)\n",
    "        score = r2_score(val_y_cv, pred_cv)\n",
    "        result.append(score)\n",
    "    \n",
    "    return result\n",
    "        \n",
    "    "
   ]
  },
  {
   "cell_type": "code",
   "execution_count": 149,
   "metadata": {
    "collapsed": false
   },
   "outputs": [
    {
     "ename": "AttributeError",
     "evalue": "'NoneType' object has no attribute 'predict2'",
     "output_type": "error",
     "traceback": [
      "\u001b[0;31m---------------------------------------------------------------------------\u001b[0m",
      "\u001b[0;31mAttributeError\u001b[0m                            Traceback (most recent call last)",
      "\u001b[0;32m<ipython-input-149-c9224f9f0009>\u001b[0m in \u001b[0;36m<module>\u001b[0;34m()\u001b[0m\n\u001b[0;32m----> 1\u001b[0;31m \u001b[0mget_cv\u001b[0m\u001b[0;34m(\u001b[0m\u001b[0mrf\u001b[0m\u001b[0;34m)\u001b[0m\u001b[0;34m\u001b[0m\u001b[0m\n\u001b[0m",
      "\u001b[0;32m<ipython-input-148-15a1dd8e2640>\u001b[0m in \u001b[0;36mget_cv\u001b[0;34m(clf)\u001b[0m\n\u001b[1;32m      4\u001b[0m         \u001b[0mtrain_x_cv\u001b[0m\u001b[0;34m,\u001b[0m \u001b[0mtrain_y_cv\u001b[0m \u001b[0;34m=\u001b[0m \u001b[0mtrain_x\u001b[0m\u001b[0;34m.\u001b[0m\u001b[0mix\u001b[0m\u001b[0;34m[\u001b[0m\u001b[0mtrain_index\u001b[0m\u001b[0;34m]\u001b[0m\u001b[0;34m,\u001b[0m \u001b[0mtrain_y\u001b[0m\u001b[0;34m.\u001b[0m\u001b[0mix\u001b[0m\u001b[0;34m[\u001b[0m\u001b[0mtrain_index\u001b[0m\u001b[0;34m]\u001b[0m\u001b[0;34m\u001b[0m\u001b[0m\n\u001b[1;32m      5\u001b[0m         \u001b[0mval_x_cv\u001b[0m\u001b[0;34m,\u001b[0m \u001b[0mval_y_cv\u001b[0m \u001b[0;34m=\u001b[0m \u001b[0mtrain_x\u001b[0m\u001b[0;34m.\u001b[0m\u001b[0mix\u001b[0m\u001b[0;34m[\u001b[0m\u001b[0mval_index\u001b[0m\u001b[0;34m]\u001b[0m\u001b[0;34m,\u001b[0m \u001b[0mtrain_y\u001b[0m\u001b[0;34m.\u001b[0m\u001b[0mix\u001b[0m\u001b[0;34m[\u001b[0m\u001b[0mval_index\u001b[0m\u001b[0;34m]\u001b[0m\u001b[0;34m\u001b[0m\u001b[0m\n\u001b[0;32m----> 6\u001b[0;31m         \u001b[0mpred_cv\u001b[0m \u001b[0;34m=\u001b[0m \u001b[0mclf\u001b[0m\u001b[0;34m.\u001b[0m\u001b[0mfit2\u001b[0m\u001b[0;34m(\u001b[0m\u001b[0mtrain_x_cv\u001b[0m\u001b[0;34m,\u001b[0m \u001b[0mtrain_y_cv\u001b[0m\u001b[0;34m)\u001b[0m\u001b[0;34m.\u001b[0m\u001b[0mpredict2\u001b[0m\u001b[0;34m(\u001b[0m\u001b[0mval_x_cv\u001b[0m\u001b[0;34m)\u001b[0m\u001b[0;34m\u001b[0m\u001b[0m\n\u001b[0m\u001b[1;32m      7\u001b[0m         \u001b[0mscore\u001b[0m \u001b[0;34m=\u001b[0m \u001b[0mr2_score\u001b[0m\u001b[0;34m(\u001b[0m\u001b[0mval_y_cv\u001b[0m\u001b[0;34m,\u001b[0m \u001b[0mpred_cv\u001b[0m\u001b[0;34m)\u001b[0m\u001b[0;34m\u001b[0m\u001b[0m\n\u001b[1;32m      8\u001b[0m         \u001b[0mresult\u001b[0m\u001b[0;34m.\u001b[0m\u001b[0mappend\u001b[0m\u001b[0;34m(\u001b[0m\u001b[0mscore\u001b[0m\u001b[0;34m)\u001b[0m\u001b[0;34m\u001b[0m\u001b[0m\n",
      "\u001b[0;31mAttributeError\u001b[0m: 'NoneType' object has no attribute 'predict2'"
     ]
    }
   ],
   "source": [
    "get_cv(rf)"
   ]
  },
  {
   "cell_type": "code",
   "execution_count": 134,
   "metadata": {
    "collapsed": true
   },
   "outputs": [],
   "source": [
    "rf2 = RandomForestRegressor(n_estimators= 10)"
   ]
  },
  {
   "cell_type": "code",
   "execution_count": 135,
   "metadata": {
    "collapsed": false
   },
   "outputs": [],
   "source": [
    "y_pred_rf = rf2.fit(train_x, train_y).predict(train_x)"
   ]
  },
  {
   "cell_type": "code",
   "execution_count": 136,
   "metadata": {
    "collapsed": false
   },
   "outputs": [
    {
     "data": {
      "text/plain": [
       "0.91176984070286937"
      ]
     },
     "execution_count": 136,
     "metadata": {},
     "output_type": "execute_result"
    }
   ],
   "source": [
    "r2_score(train_y, y_pred_rf)"
   ]
  },
  {
   "cell_type": "markdown",
   "metadata": {},
   "source": [
    "## Stacking 2"
   ]
  },
  {
   "cell_type": "code",
   "execution_count": 106,
   "metadata": {
    "collapsed": false
   },
   "outputs": [],
   "source": [
    "\n",
    "import xgboost as xgb"
   ]
  },
  {
   "cell_type": "code",
   "execution_count": 143,
   "metadata": {
    "collapsed": true
   },
   "outputs": [],
   "source": [
    "class SklearnWrapper(object):\n",
    "    def __init__(self, clf, params=None): ## remove parameter seed = 0\n",
    "        # params['random_state'] = seed\n",
    "        self.clf = clf(**params)\n",
    "\n",
    "    def fit2(self, x_train, y_train):\n",
    "        self.clf.fit(x_train, y_train)\n",
    "\n",
    "    def predict2(self, x):\n",
    "        return self.clf.predict(x)"
   ]
  },
  {
   "cell_type": "code",
   "execution_count": 108,
   "metadata": {
    "collapsed": true
   },
   "outputs": [],
   "source": [
    "class XGBWrapper(object):\n",
    "    def __init__(self, seed = 0, params = None):\n",
    "        self.params = params\n",
    "        self.params['seed'] = seed\n",
    "        self.nrounds = params['nround']\n",
    "        \n",
    "    def fit2(self, x_train, y_train):\n",
    "        dtrain = xgb.DMatrix(x_train, label = y_train)\n",
    "        self.gbdt = xgb.train(self.params, dtrain, self.nrounds)\n",
    "        \n",
    "    def predict2(self, x):\n",
    "        return self.gbdt.predict(xgb.DMatrix(x))"
   ]
  },
  {
   "cell_type": "code",
   "execution_count": 109,
   "metadata": {
    "collapsed": true
   },
   "outputs": [],
   "source": [
    "from sklearn.model_selection import KFold\n",
    "kf = KFold(5)"
   ]
  },
  {
   "cell_type": "code",
   "execution_count": 110,
   "metadata": {
    "collapsed": true
   },
   "outputs": [],
   "source": [
    "def get_oof(clf, train_x, train_y, test_x):\n",
    "    n = train_x.shape[0]\n",
    "    oof_train = np.zeros((n,1))\n",
    "    oof_test = np.zeros((n,1))\n",
    "    oof_test_temp = np.zeros((n,1))\n",
    "    \n",
    "    for train_index, test_index in kf.split(train_x):\n",
    "        model = clf.fit2(train_x.iloc[train_index], train_y.iloc[train_index])\n",
    "        oof_train[test_index] = clf.predict2(train_x.iloc[test_index]).reshape(-1,1)\n",
    "        oof_test_temp = clf.predict2(test_x).reshape(-1,1)\n",
    "        oof_test = oof_test + oof_test_temp\n",
    "    \n",
    "    oof_test = oof_test / 5\n",
    "    \n",
    "    return oof_train, oof_test\n",
    "        \n",
    "    "
   ]
  },
  {
   "cell_type": "markdown",
   "metadata": {},
   "source": [
    "### XGBoost"
   ]
  },
  {
   "cell_type": "code",
   "execution_count": 245,
   "metadata": {
    "collapsed": true
   },
   "outputs": [],
   "source": [
    "xg_params = {\n",
    "    'objective' : 'reg:linear',\n",
    "    'n_trees':1250,\n",
    "    'eta' : 0.0045,\n",
    "    'max_depth' : 3,\n",
    "    'subsample' : 0.93,\n",
    "    'eval_metric':'rmse',\n",
    "    'base_score' : y_mean,\n",
    "    'silent' : 1 ,\n",
    "    'nround':1000,\n",
    "    'min_child_weight':1\n",
    "             }"
   ]
  },
  {
   "cell_type": "code",
   "execution_count": 246,
   "metadata": {
    "collapsed": false
   },
   "outputs": [],
   "source": [
    "xg = XGBWrapper(seed = 0, params = xg_params)"
   ]
  },
  {
   "cell_type": "code",
   "execution_count": null,
   "metadata": {
    "collapsed": true
   },
   "outputs": [],
   "source": []
  },
  {
   "cell_type": "code",
   "execution_count": 113,
   "metadata": {
    "collapsed": false
   },
   "outputs": [
    {
     "name": "stdout",
     "output_type": "stream",
     "text": [
      "CPU times: user 3min 54s, sys: 958 ms, total: 3min 55s\n",
      "Wall time: 3min 58s\n"
     ]
    }
   ],
   "source": [
    "%%time\n",
    "xg_oof_train, xg_oof_test = get_oof(xg, train_x, train_y, test_x)"
   ]
  },
  {
   "cell_type": "markdown",
   "metadata": {},
   "source": [
    "### sklearn models"
   ]
  },
  {
   "cell_type": "code",
   "execution_count": 129,
   "metadata": {
    "collapsed": true
   },
   "outputs": [],
   "source": [
    "from sklearn.ensemble import RandomForestRegressor, AdaBoostRegressor,GradientBoostingRegressor, ExtraTreesRegressor\n",
    "from sklearn.svm import SVR\n",
    "from sklearn.linear_model import LassoLarsCV, ElasticNetCV , ElasticNet"
   ]
  },
  {
   "cell_type": "code",
   "execution_count": 116,
   "metadata": {
    "collapsed": true
   },
   "outputs": [],
   "source": [
    "## http://scikit-learn.org/stable/modules/generated/sklearn.ensemble.RandomForestClassifier.html\n",
    "rf_params = {\n",
    "    'n_jobs': 16,\n",
    "    'n_estimators': 1000,\n",
    "    'max_features': 0.5,\n",
    "    'max_depth': 10,\n",
    "    'min_samples_leaf': 2,\n",
    "}"
   ]
  },
  {
   "cell_type": "code",
   "execution_count": 120,
   "metadata": {
    "collapsed": true
   },
   "outputs": [],
   "source": [
    "## http://scikit-learn.org/stable/modules/generated/sklearn.ensemble.GradientBoostingRegressor.html\n",
    "gbr_params = {'loss':'ls',\n",
    "              'learning_rate':0.01,\n",
    "              'n_estimators':1000,\n",
    "              'max_depth':5,\n",
    "              'min_sample_leaf':2,\n",
    "    \n",
    "}"
   ]
  },
  {
   "cell_type": "code",
   "execution_count": 154,
   "metadata": {
    "collapsed": true
   },
   "outputs": [],
   "source": [
    "gbr_params2 = {\n",
    "    'learning_rate' : 0.001,\n",
    "    'n_estimators':2000,\n",
    "    'loss' : 'huber', \n",
    "    'max_depth' : 3, \n",
    "    'max_features': 0.55,\n",
    "    'min_samples_leaf' : 18, \n",
    "    'min_samples_split' : 14, \n",
    "    'subsample': 0.7\n",
    "}"
   ]
  },
  {
   "cell_type": "code",
   "execution_count": 121,
   "metadata": {
    "collapsed": true
   },
   "outputs": [],
   "source": [
    "## http://scikit-learn.org/stable/modules/generated/sklearn.ensemble.ExtraTreesRegressor.html\n",
    "\n",
    "\n",
    "et_params = {\n",
    "    'n_jobs': -1,\n",
    "    'n_estimators': 1000,\n",
    "    'max_features': 0.5,\n",
    "    'max_depth': 10,\n",
    "    'min_samples_leaf': 2,\n",
    "}"
   ]
  },
  {
   "cell_type": "code",
   "execution_count": 140,
   "metadata": {
    "collapsed": true
   },
   "outputs": [],
   "source": [
    "## http://scikit-learn.org/stable/modules/generated/sklearn.linear_model.LassoLarsCV.html\n",
    "ll_params = {\n",
    "   # 'fit_intercept':True\n",
    "    'n_jobs':-1\n",
    "}"
   ]
  },
  {
   "cell_type": "code",
   "execution_count": 126,
   "metadata": {
    "collapsed": true
   },
   "outputs": [],
   "source": [
    "## http://scikit-learn.org/stable/modules/generated/sklearn.linear_model.ElasticNet.html\n",
    "en_params = {\n",
    "    'alpha':0.1,\n",
    "    'l1_ratio':0.7\n",
    "    \n",
    "}"
   ]
  },
  {
   "cell_type": "code",
   "execution_count": 122,
   "metadata": {
    "collapsed": true
   },
   "outputs": [],
   "source": [
    "## http://scikit-learn.org/stable/modules/generated/sklearn.svm.SVR.html\n",
    "svr_params = {\n",
    "    'C' : 1,\n",
    "    'eplison':0.1,\n",
    "    'kernel':'rbf',\n",
    "    'gamma':'auto'\n",
    "    \n",
    "}"
   ]
  },
  {
   "cell_type": "code",
   "execution_count": 125,
   "metadata": {
    "collapsed": false
   },
   "outputs": [
    {
     "ename": "TypeError",
     "evalue": "__init__() got an unexpected keyword argument 'min_sample_split'",
     "output_type": "error",
     "traceback": [
      "\u001b[0;31m---------------------------------------------------------------------------\u001b[0m",
      "\u001b[0;31mTypeError\u001b[0m                                 Traceback (most recent call last)",
      "\u001b[0;32m<ipython-input-125-314b8355531c>\u001b[0m in \u001b[0;36m<module>\u001b[0;34m()\u001b[0m\n\u001b[0;32m----> 1\u001b[0;31m \u001b[0mrf\u001b[0m \u001b[0;34m=\u001b[0m \u001b[0mSklearnWrapper\u001b[0m\u001b[0;34m(\u001b[0m\u001b[0mclf\u001b[0m\u001b[0;34m=\u001b[0m\u001b[0mRandomForestRegressor\u001b[0m\u001b[0;34m,\u001b[0m \u001b[0mparams\u001b[0m\u001b[0;34m=\u001b[0m\u001b[0mrf_params\u001b[0m\u001b[0;34m)\u001b[0m\u001b[0;34m\u001b[0m\u001b[0m\n\u001b[0m\u001b[1;32m      2\u001b[0m \u001b[0mgbr\u001b[0m \u001b[0;34m=\u001b[0m \u001b[0mSklearnWrapper\u001b[0m\u001b[0;34m(\u001b[0m\u001b[0mclf\u001b[0m \u001b[0;34m=\u001b[0m \u001b[0mGradientBoostingRegressor\u001b[0m\u001b[0;34m,\u001b[0m  \u001b[0mparams\u001b[0m \u001b[0;34m=\u001b[0m \u001b[0mgbr_params2\u001b[0m\u001b[0;34m)\u001b[0m\u001b[0;34m\u001b[0m\u001b[0m\n\u001b[1;32m      3\u001b[0m \u001b[0met\u001b[0m \u001b[0;34m=\u001b[0m \u001b[0mSklearnWrapper\u001b[0m\u001b[0;34m(\u001b[0m\u001b[0mclf\u001b[0m \u001b[0;34m=\u001b[0m \u001b[0mExtraTreesRegressor\u001b[0m\u001b[0;34m,\u001b[0m  \u001b[0mparams\u001b[0m \u001b[0;34m=\u001b[0m \u001b[0met_params\u001b[0m\u001b[0;34m)\u001b[0m\u001b[0;34m\u001b[0m\u001b[0m\n\u001b[1;32m      4\u001b[0m \u001b[0;34m\u001b[0m\u001b[0m\n\u001b[1;32m      5\u001b[0m \u001b[0men\u001b[0m \u001b[0;34m=\u001b[0m \u001b[0mSklearnWrapper\u001b[0m\u001b[0;34m(\u001b[0m\u001b[0mclf\u001b[0m \u001b[0;34m=\u001b[0m \u001b[0mElasticNet\u001b[0m\u001b[0;34m,\u001b[0m \u001b[0mparams\u001b[0m \u001b[0;34m=\u001b[0m \u001b[0men_params\u001b[0m\u001b[0;34m)\u001b[0m\u001b[0;34m\u001b[0m\u001b[0m\n",
      "\u001b[0;32m<ipython-input-124-2212513a752f>\u001b[0m in \u001b[0;36m__init__\u001b[0;34m(self, clf, params)\u001b[0m\n\u001b[1;32m      2\u001b[0m     \u001b[0;32mdef\u001b[0m \u001b[0m__init__\u001b[0m\u001b[0;34m(\u001b[0m\u001b[0mself\u001b[0m\u001b[0;34m,\u001b[0m \u001b[0mclf\u001b[0m\u001b[0;34m,\u001b[0m \u001b[0mparams\u001b[0m\u001b[0;34m=\u001b[0m\u001b[0;32mNone\u001b[0m\u001b[0;34m)\u001b[0m\u001b[0;34m:\u001b[0m \u001b[0;31m## remove parameter seed = 0\u001b[0m\u001b[0;34m\u001b[0m\u001b[0m\n\u001b[1;32m      3\u001b[0m         \u001b[0;31m# params['random_state'] = seed\u001b[0m\u001b[0;34m\u001b[0m\u001b[0;34m\u001b[0m\u001b[0m\n\u001b[0;32m----> 4\u001b[0;31m         \u001b[0mself\u001b[0m\u001b[0;34m.\u001b[0m\u001b[0mclf\u001b[0m \u001b[0;34m=\u001b[0m \u001b[0mclf\u001b[0m\u001b[0;34m(\u001b[0m\u001b[0;34m**\u001b[0m\u001b[0mparams\u001b[0m\u001b[0;34m)\u001b[0m\u001b[0;34m\u001b[0m\u001b[0m\n\u001b[0m\u001b[1;32m      5\u001b[0m \u001b[0;34m\u001b[0m\u001b[0m\n\u001b[1;32m      6\u001b[0m     \u001b[0;32mdef\u001b[0m \u001b[0mfit2\u001b[0m\u001b[0;34m(\u001b[0m\u001b[0mself\u001b[0m\u001b[0;34m,\u001b[0m \u001b[0mx_train\u001b[0m\u001b[0;34m,\u001b[0m \u001b[0my_train\u001b[0m\u001b[0;34m)\u001b[0m\u001b[0;34m:\u001b[0m\u001b[0;34m\u001b[0m\u001b[0m\n",
      "\u001b[0;31mTypeError\u001b[0m: __init__() got an unexpected keyword argument 'min_sample_split'"
     ]
    }
   ],
   "source": [
    "rf = SklearnWrapper(clf=RandomForestRegressor, params=rf_params)\n",
    "gbr = SklearnWrapper(clf = GradientBoostingRegressor,  params = gbr_params2)\n",
    "et = SklearnWrapper(clf = ExtraTreesRegressor,  params = et_params)\n",
    "\n",
    "en = SklearnWrapper(clf = ElasticNet, params = en_params)\n"
   ]
  },
  {
   "cell_type": "code",
   "execution_count": 142,
   "metadata": {
    "collapsed": false
   },
   "outputs": [],
   "source": [
    "# rf = SklearnWrapper(clf=RandomForestRegressor, seed=2017, params=rf_params)\n",
    "# gb = SklearnWrapper(clf = GradientBoostingRegressor, seed = 2017, params = gbr_params2)\n",
    "# et = SklearnWrapper(clf = ExtraTreesRegressor, seed = 2017, params = et_params)\n",
    "# ll = SklearnWrapper(clf = LassoLarsCV, seed = 2017, params = ll_params)\n",
    "# en = SklearnWrapper(clf = ElasticNet, seed = 2017, params = en_params)\n",
    "# svr = SklearnWrapper(clf = SVR, seed = 2017, params = svr_params)"
   ]
  },
  {
   "cell_type": "code",
   "execution_count": 143,
   "metadata": {
    "collapsed": true
   },
   "outputs": [],
   "source": [
    "ll =  LassoLarsCV()"
   ]
  },
  {
   "cell_type": "code",
   "execution_count": 146,
   "metadata": {
    "collapsed": true
   },
   "outputs": [],
   "source": [
    "svr = SVR()"
   ]
  },
  {
   "cell_type": "code",
   "execution_count": 151,
   "metadata": {
    "collapsed": false
   },
   "outputs": [
    {
     "name": "stdout",
     "output_type": "stream",
     "text": [
      "CPU times: user 7min 56s, sys: 3.21 s, total: 7min 59s\n",
      "Wall time: 2min 21s\n"
     ]
    }
   ],
   "source": [
    "%%time \n",
    "rf_oof_train, rf_oof_test =  get_oof(rf, train_x, train_y, test)"
   ]
  },
  {
   "cell_type": "code",
   "execution_count": 156,
   "metadata": {
    "collapsed": false
   },
   "outputs": [
    {
     "name": "stdout",
     "output_type": "stream",
     "text": [
      "CPU times: user 4min 19s, sys: 782 ms, total: 4min 20s\n",
      "Wall time: 4min 20s\n"
     ]
    }
   ],
   "source": [
    "%%time\n",
    "gb_oof_train, gb_oof_test = get_oof(gbr, train_x, train_y, test)"
   ]
  },
  {
   "cell_type": "code",
   "execution_count": 157,
   "metadata": {
    "collapsed": false
   },
   "outputs": [
    {
     "name": "stderr",
     "output_type": "stream",
     "text": [
      "Exception ignored in: <bound method DMatrix.__del__ of <xgboost.core.DMatrix object at 0x116dc62e8>>\n",
      "Traceback (most recent call last):\n",
      "  File \"/Users/Aaron/anaconda/lib/python3.5/site-packages/xgboost-0.6-py3.5.egg/xgboost/core.py\", line 337, in __del__\n",
      "    _check_call(_LIB.XGDMatrixFree(self.handle))\n",
      "AttributeError: 'DMatrix' object has no attribute 'handle'\n"
     ]
    },
    {
     "name": "stdout",
     "output_type": "stream",
     "text": [
      "CPU times: user 4min 5s, sys: 2.26 s, total: 4min 8s\n",
      "Wall time: 1min 18s\n"
     ]
    }
   ],
   "source": [
    "%%time \n",
    "et_oof_train, et_oof_test = get_oof(et, train_x, train_y, test)"
   ]
  },
  {
   "cell_type": "code",
   "execution_count": 163,
   "metadata": {
    "collapsed": false
   },
   "outputs": [
    {
     "name": "stdout",
     "output_type": "stream",
     "text": [
      "CPU times: user 8.73 s, sys: 123 ms, total: 8.85 s\n",
      "Wall time: 7.5 s\n"
     ]
    }
   ],
   "source": [
    "%%time\n",
    "en_oof_train, en_oof_test = get_oof(en, train_x, train_y, test)"
   ]
  },
  {
   "cell_type": "code",
   "execution_count": 159,
   "metadata": {
    "collapsed": true
   },
   "outputs": [],
   "source": [
    "def get_oof_extra(clf, train_x, train_y, test_x):\n",
    "    n = train_x.shape[0]\n",
    "    oof_train = np.zeros((n,1))\n",
    "    oof_test = np.zeros((n,1))\n",
    "    oof_test_temp = np.zeros((n,1))\n",
    "    \n",
    "    for train_index, test_index in kf.split(train_x):\n",
    "        model = clf.fit(train_x.iloc[train_index], train_y.iloc[train_index])\n",
    "        oof_train[test_index] = clf.predict(train_x.iloc[test_index]).reshape(-1,1)\n",
    "        oof_test_temp = clf.predict(test_x).reshape(-1,1)\n",
    "        oof_test = oof_test + oof_test_temp\n",
    "    \n",
    "    oof_test = oof_test / 5\n",
    "    \n",
    "    return oof_train, oof_test\n",
    "        \n",
    "    "
   ]
  },
  {
   "cell_type": "code",
   "execution_count": 160,
   "metadata": {
    "collapsed": false
   },
   "outputs": [
    {
     "name": "stdout",
     "output_type": "stream",
     "text": [
      "CPU times: user 1min 5s, sys: 292 ms, total: 1min 5s\n",
      "Wall time: 1min 5s\n"
     ]
    }
   ],
   "source": [
    "%%time \n",
    "svr_oof_train, svr_oof_test = get_oof_extra(svr, train_x, train_y, test)"
   ]
  },
  {
   "cell_type": "code",
   "execution_count": 161,
   "metadata": {
    "collapsed": false
   },
   "outputs": [
    {
     "name": "stdout",
     "output_type": "stream",
     "text": [
      "CPU times: user 2.35 s, sys: 367 ms, total: 2.72 s\n",
      "Wall time: 1.69 s\n"
     ]
    }
   ],
   "source": [
    "%%time \n",
    "ll_oof_train, ll_oof_test = get_oof_extra(ll, train_x, train_y, test)"
   ]
  },
  {
   "cell_type": "code",
   "execution_count": 164,
   "metadata": {
    "collapsed": true
   },
   "outputs": [],
   "source": [
    "### Combining all model 1\n",
    "x_train_after_stack = np.concatenate((xg_oof_train, et_oof_train, rf_oof_train, gb_oof_train\n",
    "                                     , ll_oof_train, en_oof_train, svr_oof_train), axis=1)\n",
    "x_test_after_stack = np.concatenate((xg_oof_test, et_oof_test, rf_oof_test, gb_oof_test, \n",
    "                                     ll_oof_test, en_oof_test, svr_oof_test), axis=1)"
   ]
  },
  {
   "cell_type": "code",
   "execution_count": 168,
   "metadata": {
    "collapsed": false
   },
   "outputs": [
    {
     "name": "stdout",
     "output_type": "stream",
     "text": [
      "CPU times: user 1.3 s, sys: 26.3 ms, total: 1.32 s\n",
      "Wall time: 1.4 s\n"
     ]
    }
   ],
   "source": [
    "%%time\n",
    "p, model = runXGB(x_train_after_stack, train_y, x_test_after_stack, num_rounds=1000)"
   ]
  },
  {
   "cell_type": "code",
   "execution_count": 170,
   "metadata": {
    "collapsed": false
   },
   "outputs": [
    {
     "data": {
      "text/plain": [
       "(4209, 7)"
      ]
     },
     "execution_count": 170,
     "metadata": {},
     "output_type": "execute_result"
    }
   ],
   "source": [
    "x_train_after_stack.shape"
   ]
  },
  {
   "cell_type": "code",
   "execution_count": 171,
   "metadata": {
    "collapsed": false
   },
   "outputs": [
    {
     "data": {
      "text/plain": [
       "array([ 54.88514328,  60.32428741,  54.88514328,  54.88514328,  68.5891571 ], dtype=float32)"
      ]
     },
     "execution_count": 171,
     "metadata": {},
     "output_type": "execute_result"
    }
   ],
   "source": [
    "p[:5]"
   ]
  },
  {
   "cell_type": "code",
   "execution_count": 172,
   "metadata": {
    "collapsed": true
   },
   "outputs": [],
   "source": [
    "sub = pd.DataFrame()\n",
    "sub['ID'] = id_test\n",
    "sub['y'] = p\n",
    "sub.to_csv('stack1.csv', index = False)"
   ]
  },
  {
   "cell_type": "code",
   "execution_count": 173,
   "metadata": {
    "collapsed": true
   },
   "outputs": [],
   "source": [
    "sub = pd.DataFrame()\n",
    "sub['ID'] = id_test\n",
    "sub['y'] = rf_oof_test\n",
    "sub.to_csv('rf.csv', index = False)"
   ]
  },
  {
   "cell_type": "code",
   "execution_count": 174,
   "metadata": {
    "collapsed": false
   },
   "outputs": [
    {
     "data": {
      "text/plain": [
       "(4209, 1)"
      ]
     },
     "execution_count": 174,
     "metadata": {},
     "output_type": "execute_result"
    }
   ],
   "source": [
    "rf_oof_test.shape"
   ]
  },
  {
   "cell_type": "code",
   "execution_count": 176,
   "metadata": {
    "collapsed": false
   },
   "outputs": [
    {
     "data": {
      "text/plain": [
       "array([[  81.39255755],\n",
       "       [ 108.00938191],\n",
       "       [  81.43177215],\n",
       "       [  82.68408714],\n",
       "       [ 119.37385729]])"
      ]
     },
     "execution_count": 176,
     "metadata": {},
     "output_type": "execute_result"
    }
   ],
   "source": [
    "rf_oof_test[:5]"
   ]
  },
  {
   "cell_type": "code",
   "execution_count": 178,
   "metadata": {
    "collapsed": false
   },
   "outputs": [
    {
     "data": {
      "text/html": [
       "<div>\n",
       "<table border=\"1\" class=\"dataframe\">\n",
       "  <thead>\n",
       "    <tr style=\"text-align: right;\">\n",
       "      <th></th>\n",
       "      <th>ID</th>\n",
       "      <th>X0</th>\n",
       "      <th>X1</th>\n",
       "      <th>X2</th>\n",
       "      <th>X3</th>\n",
       "      <th>X4</th>\n",
       "      <th>X5</th>\n",
       "      <th>X6</th>\n",
       "      <th>X8</th>\n",
       "      <th>X10</th>\n",
       "      <th>...</th>\n",
       "      <th>pca_11</th>\n",
       "      <th>ica_11</th>\n",
       "      <th>tsvd_11</th>\n",
       "      <th>grp_11</th>\n",
       "      <th>srp_11</th>\n",
       "      <th>pca_12</th>\n",
       "      <th>ica_12</th>\n",
       "      <th>tsvd_12</th>\n",
       "      <th>grp_12</th>\n",
       "      <th>srp_12</th>\n",
       "    </tr>\n",
       "  </thead>\n",
       "  <tbody>\n",
       "    <tr>\n",
       "      <th>0</th>\n",
       "      <td>0</td>\n",
       "      <td>37</td>\n",
       "      <td>23</td>\n",
       "      <td>20</td>\n",
       "      <td>0</td>\n",
       "      <td>3</td>\n",
       "      <td>27</td>\n",
       "      <td>9</td>\n",
       "      <td>14</td>\n",
       "      <td>0</td>\n",
       "      <td>...</td>\n",
       "      <td>1.360747</td>\n",
       "      <td>-0.016158</td>\n",
       "      <td>0.534548</td>\n",
       "      <td>-508.356480</td>\n",
       "      <td>-3.981069</td>\n",
       "      <td>4.238816</td>\n",
       "      <td>-0.026000</td>\n",
       "      <td>1.349757</td>\n",
       "      <td>1218.909313</td>\n",
       "      <td>-14.707015</td>\n",
       "    </tr>\n",
       "    <tr>\n",
       "      <th>1</th>\n",
       "      <td>6</td>\n",
       "      <td>37</td>\n",
       "      <td>21</td>\n",
       "      <td>22</td>\n",
       "      <td>4</td>\n",
       "      <td>3</td>\n",
       "      <td>31</td>\n",
       "      <td>11</td>\n",
       "      <td>14</td>\n",
       "      <td>0</td>\n",
       "      <td>...</td>\n",
       "      <td>-2.803449</td>\n",
       "      <td>-0.025003</td>\n",
       "      <td>-0.298973</td>\n",
       "      <td>-515.250317</td>\n",
       "      <td>-2.185324</td>\n",
       "      <td>2.358387</td>\n",
       "      <td>0.001018</td>\n",
       "      <td>-2.785076</td>\n",
       "      <td>1209.804441</td>\n",
       "      <td>-15.233844</td>\n",
       "    </tr>\n",
       "    <tr>\n",
       "      <th>2</th>\n",
       "      <td>7</td>\n",
       "      <td>24</td>\n",
       "      <td>24</td>\n",
       "      <td>38</td>\n",
       "      <td>2</td>\n",
       "      <td>3</td>\n",
       "      <td>30</td>\n",
       "      <td>9</td>\n",
       "      <td>23</td>\n",
       "      <td>0</td>\n",
       "      <td>...</td>\n",
       "      <td>3.667395</td>\n",
       "      <td>0.025212</td>\n",
       "      <td>-4.359028</td>\n",
       "      <td>-485.908782</td>\n",
       "      <td>8.223169</td>\n",
       "      <td>-0.968324</td>\n",
       "      <td>-0.025087</td>\n",
       "      <td>4.349495</td>\n",
       "      <td>1188.930647</td>\n",
       "      <td>-52.632749</td>\n",
       "    </tr>\n",
       "    <tr>\n",
       "      <th>3</th>\n",
       "      <td>9</td>\n",
       "      <td>24</td>\n",
       "      <td>21</td>\n",
       "      <td>38</td>\n",
       "      <td>5</td>\n",
       "      <td>3</td>\n",
       "      <td>30</td>\n",
       "      <td>11</td>\n",
       "      <td>4</td>\n",
       "      <td>0</td>\n",
       "      <td>...</td>\n",
       "      <td>4.234178</td>\n",
       "      <td>0.021985</td>\n",
       "      <td>-3.811860</td>\n",
       "      <td>-507.908450</td>\n",
       "      <td>-1.033786</td>\n",
       "      <td>-1.581056</td>\n",
       "      <td>-0.018093</td>\n",
       "      <td>4.806347</td>\n",
       "      <td>1179.433141</td>\n",
       "      <td>-22.133079</td>\n",
       "    </tr>\n",
       "    <tr>\n",
       "      <th>4</th>\n",
       "      <td>13</td>\n",
       "      <td>24</td>\n",
       "      <td>23</td>\n",
       "      <td>38</td>\n",
       "      <td>5</td>\n",
       "      <td>3</td>\n",
       "      <td>14</td>\n",
       "      <td>3</td>\n",
       "      <td>13</td>\n",
       "      <td>0</td>\n",
       "      <td>...</td>\n",
       "      <td>4.837340</td>\n",
       "      <td>0.013433</td>\n",
       "      <td>-1.678387</td>\n",
       "      <td>-502.634869</td>\n",
       "      <td>2.039579</td>\n",
       "      <td>-1.653438</td>\n",
       "      <td>-0.024047</td>\n",
       "      <td>5.160166</td>\n",
       "      <td>1186.215859</td>\n",
       "      <td>-63.204101</td>\n",
       "    </tr>\n",
       "  </tbody>\n",
       "</table>\n",
       "<p>5 rows × 437 columns</p>\n",
       "</div>"
      ],
      "text/plain": [
       "   ID  X0  X1  X2  X3  X4  X5  X6  X8  X10    ...        pca_11    ica_11  \\\n",
       "0   0  37  23  20   0   3  27   9  14    0    ...      1.360747 -0.016158   \n",
       "1   6  37  21  22   4   3  31  11  14    0    ...     -2.803449 -0.025003   \n",
       "2   7  24  24  38   2   3  30   9  23    0    ...      3.667395  0.025212   \n",
       "3   9  24  21  38   5   3  30  11   4    0    ...      4.234178  0.021985   \n",
       "4  13  24  23  38   5   3  14   3  13    0    ...      4.837340  0.013433   \n",
       "\n",
       "    tsvd_11      grp_11    srp_11    pca_12    ica_12   tsvd_12       grp_12  \\\n",
       "0  0.534548 -508.356480 -3.981069  4.238816 -0.026000  1.349757  1218.909313   \n",
       "1 -0.298973 -515.250317 -2.185324  2.358387  0.001018 -2.785076  1209.804441   \n",
       "2 -4.359028 -485.908782  8.223169 -0.968324 -0.025087  4.349495  1188.930647   \n",
       "3 -3.811860 -507.908450 -1.033786 -1.581056 -0.018093  4.806347  1179.433141   \n",
       "4 -1.678387 -502.634869  2.039579 -1.653438 -0.024047  5.160166  1186.215859   \n",
       "\n",
       "      srp_12  \n",
       "0 -14.707015  \n",
       "1 -15.233844  \n",
       "2 -52.632749  \n",
       "3 -22.133079  \n",
       "4 -63.204101  \n",
       "\n",
       "[5 rows x 437 columns]"
      ]
     },
     "execution_count": 178,
     "metadata": {},
     "output_type": "execute_result"
    }
   ],
   "source": [
    "train_x.head()"
   ]
  },
  {
   "cell_type": "code",
   "execution_count": 183,
   "metadata": {
    "collapsed": false
   },
   "outputs": [
    {
     "data": {
      "text/plain": [
       "-0.18665155841770664"
      ]
     },
     "execution_count": 183,
     "metadata": {},
     "output_type": "execute_result"
    }
   ],
   "source": [
    "r2_score(rf_oof_train, train_y)"
   ]
  },
  {
   "cell_type": "code",
   "execution_count": 181,
   "metadata": {
    "collapsed": false
   },
   "outputs": [
    {
     "data": {
      "text/plain": [
       "(4209, 1)"
      ]
     },
     "execution_count": 181,
     "metadata": {},
     "output_type": "execute_result"
    }
   ],
   "source": [
    "rf_oof_train.shape"
   ]
  },
  {
   "cell_type": "code",
   "execution_count": 182,
   "metadata": {
    "collapsed": false
   },
   "outputs": [
    {
     "data": {
      "text/plain": [
       "(4209, 437)"
      ]
     },
     "execution_count": 182,
     "metadata": {},
     "output_type": "execute_result"
    }
   ],
   "source": [
    "test.shape"
   ]
  },
  {
   "cell_type": "code",
   "execution_count": 185,
   "metadata": {
    "collapsed": false
   },
   "outputs": [
    {
     "ename": "AttributeError",
     "evalue": "'NoneType' object has no attribute 'predict2'",
     "output_type": "error",
     "traceback": [
      "\u001b[0;31m---------------------------------------------------------------------------\u001b[0m",
      "\u001b[0;31mAttributeError\u001b[0m                            Traceback (most recent call last)",
      "\u001b[0;32m<ipython-input-185-795cd0156d22>\u001b[0m in \u001b[0;36m<module>\u001b[0;34m()\u001b[0m\n\u001b[0;32m----> 1\u001b[0;31m \u001b[0mr2_score\u001b[0m\u001b[0;34m(\u001b[0m\u001b[0mrf\u001b[0m\u001b[0;34m.\u001b[0m\u001b[0mfit2\u001b[0m\u001b[0;34m(\u001b[0m\u001b[0mtrain_x\u001b[0m\u001b[0;34m,\u001b[0m \u001b[0mtrain_y\u001b[0m\u001b[0;34m)\u001b[0m\u001b[0;34m.\u001b[0m\u001b[0mpredict2\u001b[0m\u001b[0;34m(\u001b[0m\u001b[0mtrain_x\u001b[0m\u001b[0;34m)\u001b[0m\u001b[0;34m,\u001b[0m \u001b[0mtrain_y\u001b[0m\u001b[0;34m)\u001b[0m\u001b[0;34m\u001b[0m\u001b[0m\n\u001b[0m",
      "\u001b[0;31mAttributeError\u001b[0m: 'NoneType' object has no attribute 'predict2'"
     ]
    }
   ],
   "source": [
    "r2_score(rf.fit2(train_x, train_y).predict2(train_x), train_y)"
   ]
  },
  {
   "cell_type": "code",
   "execution_count": 186,
   "metadata": {
    "collapsed": false
   },
   "outputs": [
    {
     "data": {
      "text/plain": [
       "-0.11056341949576431"
      ]
     },
     "execution_count": 186,
     "metadata": {},
     "output_type": "execute_result"
    }
   ],
   "source": [
    "r2_score(gb_oof_train, train_y)"
   ]
  },
  {
   "cell_type": "code",
   "execution_count": 187,
   "metadata": {
    "collapsed": false
   },
   "outputs": [
    {
     "data": {
      "text/plain": [
       "-0.10988915924298714"
      ]
     },
     "execution_count": 187,
     "metadata": {},
     "output_type": "execute_result"
    }
   ],
   "source": [
    "r2_score(ll_oof_train, train_y)"
   ]
  },
  {
   "cell_type": "code",
   "execution_count": 188,
   "metadata": {
    "collapsed": false
   },
   "outputs": [
    {
     "data": {
      "text/plain": [
       "-0.0099200917466468752"
      ]
     },
     "execution_count": 188,
     "metadata": {},
     "output_type": "execute_result"
    }
   ],
   "source": [
    "r2_score(en_oof_train, train_y)"
   ]
  },
  {
   "cell_type": "code",
   "execution_count": 189,
   "metadata": {
    "collapsed": false
   },
   "outputs": [
    {
     "data": {
      "text/plain": [
       "0.067769074918884065"
      ]
     },
     "execution_count": 189,
     "metadata": {},
     "output_type": "execute_result"
    }
   ],
   "source": [
    "r2_score(et_oof_train, train_y)"
   ]
  },
  {
   "cell_type": "code",
   "execution_count": 190,
   "metadata": {
    "collapsed": false
   },
   "outputs": [
    {
     "data": {
      "text/plain": [
       "-8327.3718559387071"
      ]
     },
     "execution_count": 190,
     "metadata": {},
     "output_type": "execute_result"
    }
   ],
   "source": [
    "r2_score(svr_oof_train, train_y)"
   ]
  },
  {
   "cell_type": "code",
   "execution_count": null,
   "metadata": {
    "collapsed": true
   },
   "outputs": [],
   "source": []
  }
 ],
 "metadata": {
  "anaconda-cloud": {},
  "kernelspec": {
   "display_name": "Python [Root]",
   "language": "python",
   "name": "Python [Root]"
  },
  "language_info": {
   "codemirror_mode": {
    "name": "ipython",
    "version": 3
   },
   "file_extension": ".py",
   "mimetype": "text/x-python",
   "name": "python",
   "nbconvert_exporter": "python",
   "pygments_lexer": "ipython3",
   "version": "3.5.2"
  }
 },
 "nbformat": 4,
 "nbformat_minor": 0
}
